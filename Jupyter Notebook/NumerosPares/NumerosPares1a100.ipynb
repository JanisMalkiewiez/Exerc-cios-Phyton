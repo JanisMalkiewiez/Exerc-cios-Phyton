{
 "cells": [
  {
   "cell_type": "markdown",
   "id": "3041a464",
   "metadata": {},
   "source": [
    "# Lista de números pares usando list comprehension."
   ]
  },
  {
   "cell_type": "markdown",
   "id": "a39dd647",
   "metadata": {},
   "source": [
    " Cria a lista de números de 1 a 100"
   ]
  },
  {
   "cell_type": "code",
   "execution_count": null,
   "id": "49668dbf",
   "metadata": {},
   "outputs": [],
   "source": [
    "numeros = list(range(1, 101))"
   ]
  },
  {
   "cell_type": "code",
   "execution_count": null,
   "id": "07df786d",
   "metadata": {},
   "outputs": [],
   "source": [
    "# Usando list comprehension para filtrar e imprimir os números pares divisíveis por 4\n",
    "pares_div4 = [numero for numero in numeros if numero % 2 == 0 and numero % 4 == 0]\n",
    "\n",
    "# Imprimindo os números\n",
    "print(pares_div4)"
   ]
  },
  {
   "cell_type": "markdown",
   "id": "1e5e67ec",
   "metadata": {},
   "source": [
    "### Gere código Phyton que crie uma lista entre 1 e 100 e então imprima os números pares, mas somente se o número for divisível por 4. Sem o uso do list comprehension.\n"
   ]
  },
  {
   "cell_type": "code",
   "execution_count": null,
   "id": "e8b290f6",
   "metadata": {},
   "outputs": [],
   "source": [
    "# Cria uma lista de números de 1 a 100\n",
    "numeros = list(range(1, 101))"
   ]
  },
  {
   "cell_type": "code",
   "execution_count": null,
   "id": "46fe7270",
   "metadata": {},
   "outputs": [],
   "source": [
    "type(numeros)"
   ]
  },
  {
   "cell_type": "code",
   "execution_count": null,
   "id": "ab9b8d5f",
   "metadata": {},
   "outputs": [],
   "source": [
    "# Percorre a lista e imprime os números que são pares e divisíveis por 4\n",
    "for numero in numeros:\n",
    "    if numero % 2 == 0 and numero % 4 == 0:\n",
    "        print(numero)"
   ]
  },
  {
   "cell_type": "markdown",
   "id": "70015ab0",
   "metadata": {},
   "source": [
    "## FIM"
   ]
  }
 ],
 "metadata": {
  "kernelspec": {
   "display_name": "Python 3 (ipykernel)",
   "language": "python",
   "name": "python3"
  },
  "language_info": {
   "codemirror_mode": {
    "name": "ipython",
    "version": 3
   },
   "file_extension": ".py",
   "mimetype": "text/x-python",
   "name": "python",
   "nbconvert_exporter": "python",
   "pygments_lexer": "ipython3",
   "version": "3.9.13"
  }
 },
 "nbformat": 4,
 "nbformat_minor": 5
}
