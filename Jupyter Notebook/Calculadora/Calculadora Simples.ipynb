{
 "cells": [
  {
   "cell_type": "markdown",
   "id": "baada965",
   "metadata": {},
   "source": [
    "Inicio\n",
    "  Exiba \"Bem-vindo à Calculadora\"\n",
    "    Peça para o usuário inserir o primeiro número\n",
    "    Armazene o primeiro número em uma variável\n",
    "    Peça para o usuário inserir o segundo número\n",
    "    Armazene o segundo número em uma variável\n",
    "    Peça para o usuário selecionar uma operação (+, -, *, /)\n",
    "    Armazene a operação em uma variável\n",
    "    Utilize a operação selecionada e os números armazenados para realizar o cálculo\n",
    "    Exiba o resultado\n",
    "Fim"
   ]
  },
  {
   "cell_type": "code",
   "execution_count": 6,
   "id": "16810cfa",
   "metadata": {},
   "outputs": [
    {
     "name": "stdout",
     "output_type": "stream",
     "text": [
      "Bem-vindo á calculadora\n",
      "Insira o primeiro número:5\n",
      "Insira o segundo número:8\n",
      "Selecione uma operação (+, -, *, /): *\n",
      "O resultado é: 40.0\n"
     ]
    }
   ],
   "source": [
    "# Solicita ao usuário os dois números e a operação desejada\n",
    "\n",
    "print(\"Bem-vindo á calculadora\")\n",
    "num1 = float(input(\"Insira o primeiro número:\"))\n",
    "num2 = float(input(\"Insira o segundo número:\"))\n",
    "operacao = input(\"Selecione uma operação (+, -, *, /): \")\n",
    "\n",
    "# Calcula o resultado com base na operação selecionada\n",
    "\n",
    "if operacao == \"+\":\n",
    "    resultado = num1 + num2\n",
    "elif operacao == \"-\":\n",
    "    resultado = num1 - num2\n",
    "elif operacao == \"*\":\n",
    "    resultado = num1 * num2\n",
    "elif operacao == \"/\":\n",
    "    resultado = num1 / num2\n",
    "else:\n",
    "    resultado = \"Operação Inválida\"    \n",
    "# Exibe o resultado\n",
    "\n",
    "print(\"O resultado é:\", resultado)"
   ]
  },
  {
   "cell_type": "markdown",
   "id": "464a0cf0",
   "metadata": {},
   "source": [
    "# Fim"
   ]
  }
 ],
 "metadata": {
  "kernelspec": {
   "display_name": "Python 3 (ipykernel)",
   "language": "python",
   "name": "python3"
  },
  "language_info": {
   "codemirror_mode": {
    "name": "ipython",
    "version": 3
   },
   "file_extension": ".py",
   "mimetype": "text/x-python",
   "name": "python",
   "nbconvert_exporter": "python",
   "pygments_lexer": "ipython3",
   "version": "3.9.13"
  }
 },
 "nbformat": 4,
 "nbformat_minor": 5
}
